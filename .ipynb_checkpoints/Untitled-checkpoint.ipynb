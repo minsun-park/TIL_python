{
 "cells": [
  {
   "cell_type": "markdown",
   "id": "7911cefc",
   "metadata": {},
   "source": [
    "## Markdown 선택! 주피터 노트북의 시작 \n",
    "print함수로 Hello,world!를 출력합니다. "
   ]
  },
  {
   "cell_type": "code",
   "execution_count": 7,
   "id": "28426f55",
   "metadata": {},
   "outputs": [
    {
     "name": "stdout",
     "output_type": "stream",
     "text": [
      "Hello World!\n"
     ]
    }
   ],
   "source": [
    "print(\"Hello World!\")"
   ]
  },
  {
   "cell_type": "code",
   "execution_count": 9,
   "id": "a793a212",
   "metadata": {},
   "outputs": [
    {
     "data": {
      "text/plain": [
       "4"
      ]
     },
     "execution_count": 9,
     "metadata": {},
     "output_type": "execute_result"
    }
   ],
   "source": [
    "# 사칙연산 \n",
    "2+2 "
   ]
  },
  {
   "cell_type": "code",
   "execution_count": 10,
   "id": "77f1186d",
   "metadata": {},
   "outputs": [
    {
     "data": {
      "text/plain": [
       "1"
      ]
     },
     "execution_count": 10,
     "metadata": {},
     "output_type": "execute_result"
    }
   ],
   "source": [
    "3-2"
   ]
  },
  {
   "cell_type": "code",
   "execution_count": 11,
   "id": "e8e50ec2",
   "metadata": {},
   "outputs": [
    {
     "data": {
      "text/plain": [
       "39"
      ]
     },
     "execution_count": 11,
     "metadata": {},
     "output_type": "execute_result"
    }
   ],
   "source": [
    "13*3"
   ]
  },
  {
   "cell_type": "code",
   "execution_count": 12,
   "id": "b48f0cde",
   "metadata": {},
   "outputs": [
    {
     "data": {
      "text/plain": [
       "5.0"
      ]
     },
     "execution_count": 12,
     "metadata": {},
     "output_type": "execute_result"
    }
   ],
   "source": [
    "15/3"
   ]
  },
  {
   "cell_type": "code",
   "execution_count": 13,
   "id": "b37240be",
   "metadata": {},
   "outputs": [
    {
     "name": "stdout",
     "output_type": "stream",
     "text": [
      "<class 'int'>\n",
      "<class 'float'>\n"
     ]
    }
   ],
   "source": [
    "# 정수 or 실수 판단하기 \n",
    "print (type(4))\n",
    "print(type(3.3))"
   ]
  },
  {
   "cell_type": "code",
   "execution_count": 14,
   "id": "a30109c9",
   "metadata": {},
   "outputs": [
    {
     "data": {
      "text/plain": [
       "6.25"
      ]
     },
     "execution_count": 14,
     "metadata": {},
     "output_type": "execute_result"
    }
   ],
   "source": [
    "# 거듭제곱 및 나머지 \n",
    "# python에서의 거듭제곱 연산자는 **로 활용되고 있으며, 공백이 없어야 함. \n",
    "2.5 ** 2 "
   ]
  },
  {
   "cell_type": "code",
   "execution_count": 15,
   "id": "08acf35f",
   "metadata": {},
   "outputs": [
    {
     "data": {
      "text/plain": [
       "4"
      ]
     },
     "execution_count": 15,
     "metadata": {},
     "output_type": "execute_result"
    }
   ],
   "source": [
    "# 몫은 // 연산자로 구할 수 있으며, 나머지는 %로 구할 수 있음. \n",
    "13 // 3 "
   ]
  },
  {
   "cell_type": "code",
   "execution_count": 16,
   "id": "169f52df",
   "metadata": {},
   "outputs": [
    {
     "data": {
      "text/plain": [
       "1"
      ]
     },
     "execution_count": 16,
     "metadata": {},
     "output_type": "execute_result"
    }
   ],
   "source": [
    "13 % 3 "
   ]
  },
  {
   "cell_type": "code",
   "execution_count": 17,
   "id": "cd2e1dcc",
   "metadata": {},
   "outputs": [
    {
     "data": {
      "text/plain": [
       "1000000000000000.0"
      ]
     },
     "execution_count": 17,
     "metadata": {},
     "output_type": "execute_result"
    }
   ],
   "source": [
    "# 과학적 표기법 \n",
    "# 큰 수나 작은 수를 활용할 경우, 기존 거듭제곱을 이용한 방법 외에 en 연산자를 이용하여 표기할 수 있다. \n",
    "1e15"
   ]
  },
  {
   "cell_type": "code",
   "execution_count": 18,
   "id": "d999d287",
   "metadata": {},
   "outputs": [
    {
     "data": {
      "text/plain": [
       "1e+16"
      ]
     },
     "execution_count": 18,
     "metadata": {},
     "output_type": "execute_result"
    }
   ],
   "source": [
    "1e16"
   ]
  },
  {
   "cell_type": "code",
   "execution_count": 19,
   "id": "64d58551",
   "metadata": {},
   "outputs": [
    {
     "data": {
      "text/plain": [
       "0.0001"
      ]
     },
     "execution_count": 19,
     "metadata": {},
     "output_type": "execute_result"
    }
   ],
   "source": [
    "1e-4"
   ]
  },
  {
   "cell_type": "code",
   "execution_count": 20,
   "id": "5a307fce",
   "metadata": {},
   "outputs": [
    {
     "data": {
      "text/plain": [
       "1e-05"
      ]
     },
     "execution_count": 20,
     "metadata": {},
     "output_type": "execute_result"
    }
   ],
   "source": [
    "1e-5"
   ]
  },
  {
   "cell_type": "code",
   "execution_count": 21,
   "id": "68bc19c0",
   "metadata": {},
   "outputs": [
    {
     "name": "stdout",
     "output_type": "stream",
     "text": [
      "False\n"
     ]
    }
   ],
   "source": [
    "# 파이썬의 논리연산은 boolean 연산이라고도 하며, 파이썬의 논리 연산을 위한 데이터 타입은 'bool'이다. \n",
    "print(not True)"
   ]
  },
  {
   "cell_type": "code",
   "execution_count": 22,
   "id": "c724b42f",
   "metadata": {},
   "outputs": [
    {
     "data": {
      "text/plain": [
       "bool"
      ]
     },
     "execution_count": 22,
     "metadata": {},
     "output_type": "execute_result"
    }
   ],
   "source": [
    "type(True)"
   ]
  },
  {
   "cell_type": "code",
   "execution_count": 1,
   "id": "bf7d834d",
   "metadata": {},
   "outputs": [
    {
     "name": "stdout",
     "output_type": "stream",
     "text": [
      "True\n"
     ]
    }
   ],
   "source": [
    "print(4 != 3)"
   ]
  },
  {
   "cell_type": "code",
   "execution_count": 2,
   "id": "2a764f34",
   "metadata": {},
   "outputs": [
    {
     "name": "stdout",
     "output_type": "stream",
     "text": [
      "8\n"
     ]
    }
   ],
   "source": [
    "# 거듭제곱과 나머지 \n",
    "# 1. 2의 세제곱 \n",
    "print(2**3)"
   ]
  },
  {
   "cell_type": "code",
   "execution_count": 3,
   "id": "76dadbba",
   "metadata": {},
   "outputs": [
    {
     "name": "stdout",
     "output_type": "stream",
     "text": [
      "8\n"
     ]
    }
   ],
   "source": [
    "a = 2 ** 3 \n",
    "print(a)"
   ]
  },
  {
   "cell_type": "code",
   "execution_count": 5,
   "id": "8d960805",
   "metadata": {},
   "outputs": [
    {
     "data": {
      "text/plain": [
       "2.665144142690225"
      ]
     },
     "execution_count": 5,
     "metadata": {},
     "output_type": "execute_result"
    }
   ],
   "source": [
    "b = 2 ** (1/2) #루트2를 표현한다. 1/2를 제곱한게 루트니까 \n",
    "2 ** b"
   ]
  },
  {
   "cell_type": "code",
   "execution_count": 7,
   "id": "ad1f24e8",
   "metadata": {},
   "outputs": [
    {
     "name": "stdout",
     "output_type": "stream",
     "text": [
      "저는 coffee를 좋아합니다. 하루 5잔 마셔요.\n"
     ]
    }
   ],
   "source": [
    "# f-string 공부 \n",
    "s = 'coffee'\n",
    "n = 5 \n",
    "result = f'저는 {s}를 좋아합니다. 하루 {n}잔 마셔요.'\n",
    "print(result)"
   ]
  },
  {
   "cell_type": "code",
   "execution_count": 13,
   "id": "50a92ba7",
   "metadata": {},
   "outputs": [
    {
     "name": "stdout",
     "output_type": "stream",
     "text": [
      "제 나이는 {num}입니다.\n"
     ]
    }
   ],
   "source": [
    "# f-string 중괄호 출력 \n",
    "num = 10 \n",
    "result = f'제 나이는 {{num}}입니다.'\n",
    "print(result)\n"
   ]
  },
  {
   "cell_type": "code",
   "execution_count": 15,
   "id": "7bc009cb",
   "metadata": {},
   "outputs": [
    {
     "name": "stdout",
     "output_type": "stream",
     "text": [
      "list : 100, 200, 300\n"
     ]
    }
   ],
   "source": [
    "# f-string과 리스트 \n",
    "n = [100, 200, 300]\n",
    "print(f'list : {n[0]}, {n[1]}, {n[2]}')"
   ]
  },
  {
   "cell_type": "code",
   "execution_count": 18,
   "id": "1a8ee982",
   "metadata": {},
   "outputs": [
    {
     "name": "stdout",
     "output_type": "stream",
     "text": [
      "0b10001\n",
      "0o21\n",
      "0x11\n"
     ]
    }
   ],
   "source": [
    "# 10진수 17을 2진수, 8진수 16진수로 표현하기 \n",
    "a = bin(17)\n",
    "b = oct(17)\n",
    "c = hex(17)\n",
    "print(a)\n",
    "print(b)\n",
    "print(c)"
   ]
  },
  {
   "cell_type": "code",
   "execution_count": 20,
   "id": "3ccc6d2a",
   "metadata": {},
   "outputs": [
    {
     "name": "stdout",
     "output_type": "stream",
     "text": [
      "False\n",
      "True\n"
     ]
    }
   ],
   "source": [
    "print( 3 == 2)\n",
    "a = 3 \n",
    "print ( a> 1 and a < 10)"
   ]
  },
  {
   "cell_type": "code",
   "execution_count": 21,
   "id": "947ef735",
   "metadata": {},
   "outputs": [],
   "source": [
    "# 변수 \n",
    "# 숫자로 시작하는 변수명은 생성 불가 \n",
    "# 변수는 대,소문자를 구분하여 생성되어 서로 다른 변수로 인식됨 \n",
    "# 변수명은 공백을 포함할 수 없음"
   ]
  },
  {
   "cell_type": "code",
   "execution_count": 22,
   "id": "cf453fa9",
   "metadata": {},
   "outputs": [
    {
     "name": "stdout",
     "output_type": "stream",
     "text": [
      "this is a \"match-up\" training course\n"
     ]
    }
   ],
   "source": [
    "# 자료형 \n",
    "string3 = 'this is a \"match-up\" training course'\n",
    "print(string3)"
   ]
  },
  {
   "cell_type": "markdown",
   "id": "8988d444",
   "metadata": {},
   "source": [
    "### 리스트"
   ]
  },
  {
   "cell_type": "markdown",
   "id": "ca3625db",
   "metadata": {},
   "source": [
    "##### 리스트에 포함되는 항목의 데이터 타입은 숫자, 문자열, bool, 리스트, 튜플, 세트 등 "
   ]
  },
  {
   "cell_type": "markdown",
   "id": "40436681",
   "metadata": {},
   "source": [
    "##### 리스트 생성 시 데이터 타입이 달라도 생성 가능 "
   ]
  },
  {
   "cell_type": "code",
   "execution_count": 2,
   "id": "7ae55875",
   "metadata": {},
   "outputs": [
    {
     "name": "stdout",
     "output_type": "stream",
     "text": [
      "[90, 85, 100, 95, 80]\n"
     ]
    },
    {
     "data": {
      "text/plain": [
       "list"
      ]
     },
     "execution_count": 2,
     "metadata": {},
     "output_type": "execute_result"
    }
   ],
   "source": [
    "# 매치업 수강자의 퀴즈점수는 각각 90, 85, 100, 95, 80 \n",
    "m_stu = [90, 85, 100, 95, 80]\n",
    "print(m_stu)\n",
    "type(m_stu)"
   ]
  },
  {
   "cell_type": "code",
   "execution_count": 3,
   "id": "fcbeed96",
   "metadata": {},
   "outputs": [
    {
     "data": {
      "text/plain": [
       "90"
      ]
     },
     "execution_count": 3,
     "metadata": {},
     "output_type": "execute_result"
    }
   ],
   "source": [
    "m_stu[0] "
   ]
  },
  {
   "cell_type": "code",
   "execution_count": 6,
   "id": "b15331df",
   "metadata": {},
   "outputs": [
    {
     "data": {
      "text/plain": [
       "[70, 85, 100, 95, 80]"
      ]
     },
     "execution_count": 6,
     "metadata": {},
     "output_type": "execute_result"
    }
   ],
   "source": [
    "# 첫 번째 항목을 90에서 70으로 변경 \n",
    "# 특정 항목을 변경하기 위해서는 변수명[i] = new data를 활용하면 됨 \n",
    "m_stu[0] = 70 \n",
    "m_stu"
   ]
  },
  {
   "cell_type": "code",
   "execution_count": 7,
   "id": "b5053f46",
   "metadata": {},
   "outputs": [
    {
     "data": {
      "text/plain": [
       "[0, 1, 'match-up', 'program', [70, 85, 100, 95, 80]]"
      ]
     },
     "execution_count": 7,
     "metadata": {},
     "output_type": "execute_result"
    }
   ],
   "source": [
    "# 리스트는 숫자, 문자, bool, 리스트 등을 혼합할 수 있다. \n",
    "mix_list = [0,1,'match-up', 'program', m_stu]\n",
    "mix_list"
   ]
  },
  {
   "cell_type": "code",
   "execution_count": 8,
   "id": "0eb7086e",
   "metadata": {},
   "outputs": [
    {
     "name": "stdout",
     "output_type": "stream",
     "text": [
      "[1, 2, 3, 4, 11, 12, 13, 14]\n",
      "[1, 2, 3, 4, 1, 2, 3, 4, 1, 2, 3, 4]\n"
     ]
    }
   ],
   "source": [
    "# 리스트는 문자열과 같이 더하거나 곱할 수 있음 \n",
    "list1 = [1,2,3,4]\n",
    "list2 = [11,12,13,14]\n",
    "# 리스트 연결하기 \n",
    "listsum = list1 +list2 \n",
    "# 리스트 반복하기 \n",
    "listmul = list1 * 3\n",
    "\n",
    "print(listsum)\n",
    "print(listmul)"
   ]
  },
  {
   "cell_type": "code",
   "execution_count": 14,
   "id": "872d9c82",
   "metadata": {},
   "outputs": [
    {
     "name": "stdout",
     "output_type": "stream",
     "text": [
      "[1, 2, 3, 4, 5, 6, 7, 8, 9, 10]\n",
      "[1, 2, 3]\n",
      "[7, 8, 9, 10]\n",
      "[1, 2, 3]\n"
     ]
    }
   ],
   "source": [
    "#리스트에서 원하는 범위만 추출하기 \n",
    "# a[시작번호:끝번호] 를 지정하면 끝번호에 해당하는 것은 포함되지 않는다. \n",
    "list = [1,2,3,4,5,6,7,8,9,10]\n",
    "print(list)\n",
    "print(list[0:3]) #0,1,2번째 \n",
    "print(list[6:]) # 6번째부터 끝까지 \n",
    "print(list[:3])# 처음부터 두번째까지 "
   ]
  },
  {
   "cell_type": "code",
   "execution_count": 15,
   "id": "bb64fdec",
   "metadata": {},
   "outputs": [
    {
     "name": "stdout",
     "output_type": "stream",
     "text": [
      "[1, 2, 3, 4, 5, 6, 7, 8, 9]\n"
     ]
    }
   ],
   "source": [
    "# 리스트에서 del리스트명[i] 를 통해 인덱스를 삭제할 수 있다. \n",
    "# 9번째를 삭제 \n",
    "del list[9] \n",
    "print(list)"
   ]
  },
  {
   "cell_type": "code",
   "execution_count": 17,
   "id": "4c5fef47",
   "metadata": {},
   "outputs": [
    {
     "name": "stdout",
     "output_type": "stream",
     "text": [
      "True\n",
      "False\n"
     ]
    }
   ],
   "source": [
    "# 해당 위치에 인덱스가 존재하는지 확인하는 방법\n",
    "print(4 in list)\n",
    "print (10 in list)"
   ]
  },
  {
   "cell_type": "markdown",
   "id": "82814b60",
   "metadata": {},
   "source": [
    "#### 파이썬에서는 데이터 타입별로 이용할 수 있는 다양한 함수를 제공하고 있다. \n",
    "#### 이를 '메소드'라고 칭하며, 이를 이용하여 손쉬운 데이터 처리가 가능함 \n",
    "#### 리스트에서는 데이터 추가, 삽입, 삭제 등의 작업을 메소드로 수행할 수 있음 "
   ]
  },
  {
   "cell_type": "code",
   "execution_count": 18,
   "id": "690928e8",
   "metadata": {},
   "outputs": [
    {
     "name": "stdout",
     "output_type": "stream",
     "text": [
      "['박지성', '기성용', '손흥민', '이청용', '이강민']\n"
     ]
    }
   ],
   "source": [
    "# append() 리스트에서 항목 하나를 맨 마지막에 추가 \n",
    "M_stu = ['박지성', '기성용', '손흥민', '이청용']\n",
    "M_stu.append('이강민')\n",
    "print(M_stu)"
   ]
  },
  {
   "cell_type": "code",
   "execution_count": 32,
   "id": "dda654ce",
   "metadata": {},
   "outputs": [
    {
     "data": {
      "text/plain": [
       "['박지성', '홍명보', '홍명보', '기성용', '이승우', '손흥민', '이승우', '이승우', '이강민']"
      ]
     },
     "execution_count": 32,
     "metadata": {},
     "output_type": "execute_result"
    }
   ],
   "source": [
    "# insert() 리스트에서 특정 위치에 항목을 삽입 \n",
    "M_stu.insert(3, '이승우')\n",
    "M_stu\n",
    "M_stu.insert(1, '홍명보')\n",
    "M_stu"
   ]
  },
  {
   "cell_type": "code",
   "execution_count": 21,
   "id": "5ab0cb8f",
   "metadata": {},
   "outputs": [
    {
     "data": {
      "text/plain": [
       "['박지성', '홍명보', '기성용', '손흥민', '이승우', '이승우', '이청용', '이강민', '백승호', '정우영']"
      ]
     },
     "execution_count": 21,
     "metadata": {},
     "output_type": "execute_result"
    }
   ],
   "source": [
    "# extend() 리스트에서 항목 여러개를 맨 마지막에 추가하는 것 \n",
    "M_stu.extend(['백승호', '정우영'])\n",
    "M_stu"
   ]
  },
  {
   "cell_type": "code",
   "execution_count": 22,
   "id": "1d15a8e5",
   "metadata": {},
   "outputs": [
    {
     "data": {
      "text/plain": [
       "['박지성', '홍명보', '기성용', '손흥민', '이승우', '이승우', '이강민', '백승호', '정우영']"
      ]
     },
     "execution_count": 22,
     "metadata": {},
     "output_type": "execute_result"
    }
   ],
   "source": [
    "# remove() 입력값과 첫 번째로 일치하는 항목을 리스트에서 삭제 \n",
    "M_stu.remove('이청용')\n",
    "M_stu"
   ]
  },
  {
   "cell_type": "code",
   "execution_count": 26,
   "id": "f5601d6f",
   "metadata": {},
   "outputs": [
    {
     "name": "stdout",
     "output_type": "stream",
     "text": [
      "5\n",
      "[0, 1, 2, 3, 4]\n"
     ]
    }
   ],
   "source": [
    "#pop() 은 리스트에서 맨 마지막 요소를 출력하면서, 그 요소를 리스트에서 삭제하는 것. 즉, 리스트에서 꺼내버리는 함수이다. \n",
    "list = [0,1,2,3,4,5]\n",
    "print(list.pop())\n",
    "print(list)\n"
   ]
  },
  {
   "cell_type": "code",
   "execution_count": 29,
   "id": "364b9bc4",
   "metadata": {},
   "outputs": [
    {
     "data": {
      "text/plain": [
       "2"
      ]
     },
     "execution_count": 29,
     "metadata": {},
     "output_type": "execute_result"
    }
   ],
   "source": [
    "#index는 요소의 위치를 반환\n",
    "list = [1,2,3,4,5]\n",
    "list.index(3) # 3이 두번째 위치에 있다. \n"
   ]
  },
  {
   "cell_type": "code",
   "execution_count": 30,
   "id": "48104500",
   "metadata": {},
   "outputs": [
    {
     "name": "stdout",
     "output_type": "stream",
     "text": [
      "1\n"
     ]
    }
   ],
   "source": [
    "print(M_stu.index('홍명보'))"
   ]
  },
  {
   "cell_type": "code",
   "execution_count": 31,
   "id": "6f9dcb88",
   "metadata": {},
   "outputs": [
    {
     "name": "stdout",
     "output_type": "stream",
     "text": [
      "2\n"
     ]
    }
   ],
   "source": [
    "# count()는 리스트에서 인자와 일치하는 항목의 개수를 반환 \n",
    "print(M_stu.count('이승우'))"
   ]
  },
  {
   "cell_type": "code",
   "execution_count": 34,
   "id": "f2984452",
   "metadata": {},
   "outputs": [
    {
     "name": "stdout",
     "output_type": "stream",
     "text": [
      "['기성용', '박지성', '손흥민', '이강민', '이승우', '이승우', '이승우', '홍명보', '홍명보']\n"
     ]
    }
   ],
   "source": [
    "# sort()는 숫자나 문자열로 구성된 리스트 항목을 순방향으로 정렬 \n",
    "M_stu.sort()\n",
    "print(M_stu)"
   ]
  },
  {
   "cell_type": "code",
   "execution_count": 36,
   "id": "a060b0fb",
   "metadata": {},
   "outputs": [
    {
     "name": "stdout",
     "output_type": "stream",
     "text": [
      "['홍명보', '홍명보', '이승우', '이승우', '이승우', '이강민', '손흥민', '박지성', '기성용']\n"
     ]
    }
   ],
   "source": [
    "# reverse() 리스트 항목을 끝에서부터 역순으로 정렬 \n",
    "M_stu.reverse()\n",
    "print(M_stu)"
   ]
  },
  {
   "cell_type": "markdown",
   "id": "7ddfd05f",
   "metadata": {},
   "source": [
    "### 튜플 \n",
    "##### 튜플은 리스트와 유사한 특성을 가지지만, [] 대신 ()를 이용하거나 괄호를 사용하지 않고 데이터를 입력한다. "
   ]
  },
  {
   "cell_type": "code",
   "execution_count": 37,
   "id": "d0f4dfea",
   "metadata": {},
   "outputs": [
    {
     "name": "stdout",
     "output_type": "stream",
     "text": [
      "(1, 2, 3, 4)\n"
     ]
    },
    {
     "data": {
      "text/plain": [
       "tuple"
      ]
     },
     "execution_count": 37,
     "metadata": {},
     "output_type": "execute_result"
    }
   ],
   "source": [
    "#괄호를 사용하여서 입력 \n",
    "tp = (1,2,3,4)\n",
    "print(tp)\n",
    "type(tp)"
   ]
  },
  {
   "cell_type": "code",
   "execution_count": 38,
   "id": "4d27a7c3",
   "metadata": {},
   "outputs": [
    {
     "name": "stdout",
     "output_type": "stream",
     "text": [
      "(5, 6, 7, 8)\n"
     ]
    },
    {
     "data": {
      "text/plain": [
       "tuple"
      ]
     },
     "execution_count": 38,
     "metadata": {},
     "output_type": "execute_result"
    }
   ],
   "source": [
    "# 괄호없이 데이터 입력 \n",
    "tp2 = 5,6,7,8\n",
    "print(tp2)\n",
    "type(tp2)"
   ]
  },
  {
   "cell_type": "code",
   "execution_count": 39,
   "id": "e2909fb6",
   "metadata": {},
   "outputs": [
    {
     "data": {
      "text/plain": [
       "3"
      ]
     },
     "execution_count": 39,
     "metadata": {},
     "output_type": "execute_result"
    }
   ],
   "source": [
    "tp[2] # 인덱스 위치 출력 "
   ]
  },
  {
   "cell_type": "markdown",
   "id": "8cf4b4f0",
   "metadata": {},
   "source": [
    "#### 인자가 1개 있는 튜플의 경우 마지막에 ,를 입력해야 함 "
   ]
  },
  {
   "cell_type": "code",
   "execution_count": 41,
   "id": "bfa017ac",
   "metadata": {},
   "outputs": [
    {
     "name": "stdout",
     "output_type": "stream",
     "text": [
      "(1,)\n",
      "(2,)\n"
     ]
    }
   ],
   "source": [
    "tp3 = (1,)\n",
    "print(tp3)\n",
    "tp4 = 2, \n",
    "print(tp4)"
   ]
  },
  {
   "cell_type": "markdown",
   "id": "c61b32c5",
   "metadata": {},
   "source": [
    "튜플의 경우 생성된 요소를 변경하거나 삭제가 불가능함. 따라서 튜플은 생성 후 변경할 필요가 없을 경우 사용한다. "
   ]
  },
  {
   "cell_type": "markdown",
   "id": "b0fd3ac6",
   "metadata": {},
   "source": [
    "요소를 변경하거나 삭제할 순 없지만, 요소를 변경하지 않는 index() , count() 는 사용이 가능함. "
   ]
  },
  {
   "cell_type": "code",
   "execution_count": 2,
   "id": "fa45b473",
   "metadata": {},
   "outputs": [
    {
     "data": {
      "text/plain": [
       "2"
      ]
     },
     "execution_count": 2,
     "metadata": {},
     "output_type": "execute_result"
    }
   ],
   "source": [
    "# 튜플 index \n",
    "tp6 = ('가', '나', '다', '라')\n",
    "tp6.index('다')"
   ]
  },
  {
   "cell_type": "code",
   "execution_count": 5,
   "id": "659c8165",
   "metadata": {},
   "outputs": [
    {
     "data": {
      "text/plain": [
       "2"
      ]
     },
     "execution_count": 5,
     "metadata": {},
     "output_type": "execute_result"
    }
   ],
   "source": [
    "tp7 = ('가', '가', '나')\n",
    "tp7.count('가')"
   ]
  },
  {
   "cell_type": "markdown",
   "id": "90651253",
   "metadata": {},
   "source": [
    "##### 세트 : 수학의 집합 개념으로 데이터의 순서가 없고, 중복하여 사용할 수 없음 \n",
    "교집합 합집합 차집합을 구할 수 있음 \n",
    "세트를 구축할 때는 ({})의 형태로 구축함 "
   ]
  },
  {
   "cell_type": "code",
   "execution_count": 6,
   "id": "7d87e2ad",
   "metadata": {},
   "outputs": [
    {
     "name": "stdout",
     "output_type": "stream",
     "text": [
      "{1, 2, 3, 4}\n",
      "{1, 2, 3, 4}\n"
     ]
    },
    {
     "data": {
      "text/plain": [
       "set"
      ]
     },
     "execution_count": 6,
     "metadata": {},
     "output_type": "execute_result"
    }
   ],
   "source": [
    "seta = {1,2,3,4} \n",
    "setb = {1,2,2,3,4}\n",
    "print(seta)\n",
    "print(setb) #중복을 허용하지 않는다. \n",
    "type(setb)"
   ]
  },
  {
   "cell_type": "code",
   "execution_count": 9,
   "id": "f060901e",
   "metadata": {},
   "outputs": [
    {
     "name": "stdout",
     "output_type": "stream",
     "text": [
      "{2, 4, 5}\n",
      "{1, 2, 3, 4, 5, 6, 7, 8, 9, 10, 11, 13}\n",
      "{1, 3, 6, 7, 8, 9, 10}\n",
      "{2, 4, 5}\n",
      "{1, 2, 3, 4, 5, 6, 7, 8, 9, 10, 11, 13}\n",
      "{1, 3, 6, 7, 8, 9, 10}\n"
     ]
    }
   ],
   "source": [
    "A = {1,2,3,4,5,6,7,8,9,10}\n",
    "B = {2,4,5,11,13}\n",
    "print(A.intersection(B)) #교집합\n",
    "print(A.union(B)) #합집합 \n",
    "print(A.difference(B)) #차집합 \n",
    "print(A&B) # 교집합 \n",
    "print(A|B) # 합집합 \n",
    "print(A-B) # 차집합 "
   ]
  },
  {
   "cell_type": "markdown",
   "id": "e3fd99c8",
   "metadata": {},
   "source": [
    "#### 타입변환 (리스트, 튜플, 세트) \n",
    "데이터 타입을 변화해야 할 경우 list() , tuple(), set()를 이용하여 변환이 가능함 "
   ]
  },
  {
   "cell_type": "code",
   "execution_count": 15,
   "id": "25e782d6",
   "metadata": {},
   "outputs": [
    {
     "name": "stdout",
     "output_type": "stream",
     "text": [
      "<class 'list'>\n",
      "<class 'tuple'>\n",
      "<class 'set'>\n",
      "[1, 2, 3]\n",
      "<class 'list'>\n"
     ]
    }
   ],
   "source": [
    "# list 생성 \n",
    "A = [1,2,3]\n",
    "print(type(A))\n",
    "# tuple로 변환 \n",
    "B = tuple(A)\n",
    "print(type(B))\n",
    "# set로 변환 \n",
    "C = set(A)\n",
    "print(type(C))\n",
    "# list로 변환 \n",
    "D = list(B)\n",
    "print(D) \n",
    "print(type(D)) "
   ]
  },
  {
   "cell_type": "markdown",
   "id": "2118cc9a",
   "metadata": {},
   "source": [
    "#### 딕셔너리 \n",
    "표제어와 설명을 사전형식으로 구축하여 사용하는 방법 \n",
    "키 (key)와 값(value) 쌍으로 구성되어 있음 \n",
    "중괄호를 이용해 구성하며, 키와 값의 구분은 :로 구분하여 데이터를 생성 "
   ]
  },
  {
   "cell_type": "code",
   "execution_count": 16,
   "id": "89d572fb",
   "metadata": {},
   "outputs": [
    {
     "name": "stdout",
     "output_type": "stream",
     "text": [
      "{'남자': 'Men', '여자': 'Women', '아이': 'Baby'}\n",
      "<class 'dict'>\n"
     ]
    }
   ],
   "source": [
    "dict = {\"남자\" : \"Men\", \"여자\" : \"Women\", \"아이\": \"Baby\"}\n",
    "print(dict)\n",
    "print(type(dict))"
   ]
  },
  {
   "cell_type": "code",
   "execution_count": null,
   "id": "34a6e9d9",
   "metadata": {},
   "outputs": [],
   "source": []
  },
  {
   "cell_type": "code",
   "execution_count": null,
   "id": "7d8087c5",
   "metadata": {},
   "outputs": [],
   "source": []
  },
  {
   "cell_type": "code",
   "execution_count": null,
   "id": "fcc1ed3b",
   "metadata": {},
   "outputs": [],
   "source": []
  },
  {
   "cell_type": "code",
   "execution_count": null,
   "id": "7cd9ed7f",
   "metadata": {},
   "outputs": [],
   "source": []
  },
  {
   "cell_type": "code",
   "execution_count": null,
   "id": "1f82a38c",
   "metadata": {},
   "outputs": [],
   "source": []
  },
  {
   "cell_type": "code",
   "execution_count": null,
   "id": "6b5c61b4",
   "metadata": {},
   "outputs": [],
   "source": []
  },
  {
   "cell_type": "code",
   "execution_count": null,
   "id": "11c5de6f",
   "metadata": {},
   "outputs": [],
   "source": []
  }
 ],
 "metadata": {
  "kernelspec": {
   "display_name": "Python 3 (ipykernel)",
   "language": "python",
   "name": "python3"
  },
  "language_info": {
   "codemirror_mode": {
    "name": "ipython",
    "version": 3
   },
   "file_extension": ".py",
   "mimetype": "text/x-python",
   "name": "python",
   "nbconvert_exporter": "python",
   "pygments_lexer": "ipython3",
   "version": "3.9.7"
  }
 },
 "nbformat": 4,
 "nbformat_minor": 5
}
