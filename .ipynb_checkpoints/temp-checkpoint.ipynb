{
 "cells": [
  {
   "cell_type": "code",
   "execution_count": 2,
   "id": "fc2e8fec",
   "metadata": {},
   "outputs": [
    {
     "data": {
      "text/plain": [
       "'\\n여러 줄의 주석은 다음과 같이 표현될 수 있다. \\n'"
      ]
     },
     "execution_count": 2,
     "metadata": {},
     "output_type": "execute_result"
    }
   ],
   "source": [
    "# python은 대화형 모드로 동작한다. \n",
    "# 한 줄 주석은 #으로 표현한다. \n",
    "'''\n",
    "여러 줄의 주석은 다음과 같이 표현될 수 있다. \n",
    "'''"
   ]
  },
  {
   "cell_type": "markdown",
   "id": "46532d66",
   "metadata": {},
   "source": [
    "\"\"\"\n",
    "흠~ \"\n",
    "\"\"\"\n",
    "> 마크다운으로 변경할 수 있다. "
   ]
  },
  {
   "cell_type": "code",
   "execution_count": 5,
   "id": "b1978308",
   "metadata": {},
   "outputs": [
    {
     "name": "stdout",
     "output_type": "stream",
     "text": [
      "마크다운으로도 활용할 수 있다.\n"
     ]
    }
   ],
   "source": [
    "print(\"마크다운으로도 활용할 수 있다.\")"
   ]
  },
  {
   "cell_type": "markdown",
   "id": "9a23b7d6",
   "metadata": {},
   "source": [
    "# header 1 \n",
    "## header 2 \n",
    "### header 3 "
   ]
  },
  {
   "cell_type": "markdown",
   "id": "71c2eda9",
   "metadata": {},
   "source": [
    "> 인용구 기능 "
   ]
  }
 ],
 "metadata": {
  "kernelspec": {
   "display_name": "Python 3 (ipykernel)",
   "language": "python",
   "name": "python3"
  },
  "language_info": {
   "codemirror_mode": {
    "name": "ipython",
    "version": 3
   },
   "file_extension": ".py",
   "mimetype": "text/x-python",
   "name": "python",
   "nbconvert_exporter": "python",
   "pygments_lexer": "ipython3",
   "version": "3.9.7"
  }
 },
 "nbformat": 4,
 "nbformat_minor": 5
}
